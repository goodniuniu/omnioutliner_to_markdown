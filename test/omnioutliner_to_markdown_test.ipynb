{
 "cells": [
  {
   "cell_type": "code",
   "execution_count": 1,
   "metadata": {},
   "outputs": [
    {
     "name": "stdout",
     "output_type": "stream",
     "text": [
      "Populating the interactive namespace from numpy and matplotlib\n"
     ]
    }
   ],
   "source": [
    "%pylab inline\n",
    "%load_ext autoreload\n",
    "%autoreload 2\n",
    "\n",
    "from pathlib import Path\n",
    "\n",
    "from ootomd import ooutlineToFormat, OOutlineToFormat, OOutlineToMarkdown\n",
    "\n",
    "testDir = Path.cwd()\n",
    "testOOutline = testDir / 'test.ooutline'"
   ]
  },
  {
   "cell_type": "code",
   "execution_count": 2,
   "metadata": {},
   "outputs": [
    {
     "data": {
      "text/plain": [
       "(<NSAppleScript: 0x7fc185b7fad0>, (<NSAppleEventDescriptor: null()>, None))"
      ]
     },
     "execution_count": 2,
     "metadata": {},
     "output_type": "execute_result"
    }
   ],
   "source": [
    "# test basic AppleScript functionality\n",
    "\n",
    "kw = {\n",
    "    'safe': False\n",
    "}\n",
    "ooutlineToFormat.ActivateOutliner(**kw)"
   ]
  },
  {
   "cell_type": "code",
   "execution_count": 10,
   "metadata": {},
   "outputs": [
    {
     "name": "stdout",
     "output_type": "stream",
     "text": [
      "on is_running(appName)\n",
      "    tell application \"System Events\" to (name of processes) contains appName\n",
      "end is_running\n",
      "\n",
      "set OmniOutlinerWasRunning to is_running(\"OmniOutliner\")\n",
      "\n",
      "tell application \"OmniOutliner\"\n",
      "    open \"/Users/tel/git/omnioutliner_to_markdown/test/test.ooutline\"\n",
      "    expandAll\n",
      "    close access (open for access (\"/Users/tel/git/omnioutliner_to_markdown/test/test.txt\" as POSIX file))\n",
      "    export document 1 to (\"/Users/tel/git/omnioutliner_to_markdown/test/test.txt\" as POSIX file) as \"public.plain-text\"\n",
      "    close document 1\n",
      "end tell\n",
      "\n",
      "if not OmniOutlinerWasRunning then\n",
      "    tell application \"OmniOutliner\"\n",
      "        quit\n",
      "    end tell\n",
      "end if\n",
      "/Users/tel/git/omnioutliner_to_markdown/test/test.txt\n"
     ]
    },
    {
     "data": {
      "text/plain": [
       "(<NSAppleScript: 0x7fc18838b360>, (<NSAppleEventDescriptor: null()>, None))"
      ]
     },
     "execution_count": 10,
     "metadata": {},
     "output_type": "execute_result"
    }
   ],
   "source": [
    "# test conversion of .ooutline to .txt\n",
    "\n",
    "kw = dict([\n",
    "    ('fpath', testOOutline), \n",
    "    ('format', 'public.plain-text'),\n",
    "    ('ext', '.txt'),\n",
    "    ('safe', True)\n",
    "])\n",
    "\n",
    "# do a dry run, get the AppleScript and some intermediate vars\n",
    "astr,fpathOut = OOutlineToFormat(dryrun=True, **kw)\n",
    "print(astr)\n",
    "print(fpathOut)\n",
    "\n",
    "# do the actual test\n",
    "OOutlineToFormat(**kw)"
   ]
  },
  {
   "cell_type": "code",
   "execution_count": 12,
   "metadata": {},
   "outputs": [
    {
     "name": "stdout",
     "output_type": "stream",
     "text": [
      "on is_running(appName)\n",
      "    tell application \"System Events\" to (name of processes) contains appName\n",
      "end is_running\n",
      "\n",
      "set OmniOutlinerWasRunning to is_running(\"OmniOutliner\")\n",
      "\n",
      "tell application \"OmniOutliner\"\n",
      "    open \"/Users/tel/git/omnioutliner_to_markdown/test/test.ooutline\"\n",
      "    expandAll\n",
      "    close access (open for access (\"/Users/tel/git/omnioutliner_to_markdown/test/test.md\" as POSIX file))\n",
      "    export document 1 to (\"/Users/tel/git/omnioutliner_to_markdown/test/test.md\" as POSIX file) as \"public.plain-text\"\n",
      "    close document 1\n",
      "end tell\n",
      "\n",
      "if not OmniOutlinerWasRunning then\n",
      "    tell application \"OmniOutliner\"\n",
      "        quit\n",
      "    end tell\n",
      "end if\n",
      "/Users/tel/git/omnioutliner_to_markdown/test/test.md\n"
     ]
    },
    {
     "data": {
      "text/plain": [
       "(<NSAppleScript: 0x7fc188698580>, (<NSAppleEventDescriptor: null()>, None))"
      ]
     },
     "execution_count": 12,
     "metadata": {},
     "output_type": "execute_result"
    }
   ],
   "source": [
    "# test complete conversion of .ooutline to github/gitlab friendly markdown\n",
    "\n",
    "kw = dict([\n",
    "    ('fpath', testOOutline),\n",
    "])\n",
    "\n",
    "# do a dry run, get the AppleScript and some intermediate vars\n",
    "astr,fpathOut = OOutlineToMarkdown(dryrun=True, **kw)\n",
    "print(astr)\n",
    "print(fpathOut)\n",
    "\n",
    "# do the actual test\n",
    "OOutlineToMarkdown(**kw)"
   ]
  },
  {
   "cell_type": "code",
   "execution_count": null,
   "metadata": {
    "collapsed": true
   },
   "outputs": [],
   "source": []
  }
 ],
 "metadata": {
  "kernelspec": {
   "display_name": "Python 3",
   "language": "python",
   "name": "python3"
  },
  "language_info": {
   "codemirror_mode": {
    "name": "ipython",
    "version": 3
   },
   "file_extension": ".py",
   "mimetype": "text/x-python",
   "name": "python",
   "nbconvert_exporter": "python",
   "pygments_lexer": "ipython3",
   "version": "3.6.3"
  }
 },
 "nbformat": 4,
 "nbformat_minor": 2
}
